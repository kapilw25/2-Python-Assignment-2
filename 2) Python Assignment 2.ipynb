{
 "cells": [
  {
   "cell_type": "markdown",
   "id": "b79d9a27",
   "metadata": {},
   "source": [
    "# 1. Create the below pattern using nested for loop in Python."
   ]
  },
  {
   "cell_type": "code",
   "execution_count": 1,
   "id": "93fc14a1",
   "metadata": {},
   "outputs": [
    {
     "name": "stdout",
     "output_type": "stream",
     "text": [
      "*\n",
      "**\n",
      "***\n",
      "****\n",
      "*****\n",
      "****\n",
      "***\n",
      "**\n",
      "*\n"
     ]
    }
   ],
   "source": [
    "k2 = \"*\"\n",
    "i = 1\n",
    "while i <= 4:\n",
    "    print(k2.center(i,\"*\"))\n",
    "    i = i + 1\n",
    "while i >= 1:\n",
    "    print(k2.center(i,\"*\"))\n",
    "    i = i - 1"
   ]
  },
  {
   "cell_type": "markdown",
   "id": "9baf50fb",
   "metadata": {},
   "source": [
    "# 2. Write a Python program to reverse a word after accepting the input from the user.\n",
    "\n",
    "Input word: ineuron\n",
    "Output: norueni"
   ]
  },
  {
   "cell_type": "code",
   "execution_count": 3,
   "id": "47a3a9f6",
   "metadata": {},
   "outputs": [
    {
     "name": "stdout",
     "output_type": "stream",
     "text": [
      "Input word: = ineuron\n",
      "Output:  norueni\n"
     ]
    }
   ],
   "source": [
    "a = input(\"Input word: = \")\n",
    "b = a[::-1]\n",
    "print(\"Output: \", b)"
   ]
  },
  {
   "cell_type": "code",
   "execution_count": null,
   "id": "b1979e12",
   "metadata": {},
   "outputs": [],
   "source": []
  }
 ],
 "metadata": {
  "kernelspec": {
   "display_name": "Python 3",
   "language": "python",
   "name": "python3"
  },
  "language_info": {
   "codemirror_mode": {
    "name": "ipython",
    "version": 3
   },
   "file_extension": ".py",
   "mimetype": "text/x-python",
   "name": "python",
   "nbconvert_exporter": "python",
   "pygments_lexer": "ipython3",
   "version": "3.8.8"
  }
 },
 "nbformat": 4,
 "nbformat_minor": 5
}
